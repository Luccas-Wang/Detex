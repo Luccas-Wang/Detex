{
 "cells": [
  {
   "cell_type": "markdown",
   "metadata": {},
   "source": [
    "# Required Files\n",
    "\n",
    "There are two required files: the station key and the template key (referred to as \"keys\"). Both are usually saved as csv files for ease of editing/viewing.\n",
    "\n",
    "## Station Key\n",
    "\n",
    "The station key is used to tell detex which stations and channels to use. The location of the station and a desired time frame are also included. \n",
    "\n",
    "Here is an example from the introductory tutorial:\n",
    "\n",
    "\n",
    "| NETWORK | STATION | STARTTIME | ENDTIME | LAT | LON | ELEVATION | CHANNELS |\n",
    "|:----------:|:-----------:|:------------:| :-: | :-: | :-: | :-: | :-: |\n",
    "| TA | M18A\t| 2009-04-01T00:00:00 | 2009-04-04T00:00:00\t| 41.4272 | -110.0674 | 2103 | BHE-BHN-BHZ |\n",
    "| TA | M17A\t| 2009-04-01T00:00:00 | 2009-04-04T00:00:00\t| 41.4729 | - 110.6664 | 2101 | BHE-BHN-BHZ |\n",
    "\n",
    "\n",
    "The STARTTIME and ENDTIME fields indicated the time range of the continuous data and can be in any format readable by the obspy.UTCDateTime class including a time stamp (ie epoch time). If you do use an epoch time be careful when editing outside of python because programs like excel tend to round large numbers without tell you. \n",
    "\n",
    "\n",
    "See the [obspy.UTCDateTime docs](http://docs.obspy.org/packages/autogen/obspy.core.utcdatetime.UTCDateTime.html) for more info on readable formats. \n",
    "\n",
    "The CHANNELS field should list the channels that will be used for each station separated by a dash (-).\n",
    "\n",
    "The LAT, LON, and ELEVATION fields give the stations location in global coordinates (elevation is in meters).\n",
    "\n",
    "The order of the headers is not important. Additionally, extra fields can be added without affecting Detex's ability to read the file. If you need to keep track of location for example, simply add a location field.\n",
    "\n",
    "## Template Key\n",
    "\n",
    "The template key is usually saved as TemplateKey.csv. It contains information on each of the events that will be used by detex. \n",
    "\n",
    "Here is an example from the introductory tutorial:\n",
    "\n",
    "| CONTRIBUTOR | NAME | TIME | LAT | LON | DEPTH | MTYPE | MAG |\n",
    "| :--: | :--: | :--: | :--: | :--: |:--: | :--: |:--: |\n",
    "| ANF | 2007-12-19T17-56-18 | 2007-12-19T17-56-18 | 41.7205\t| -110.6486\t| 4.07 | ML | 2.36 |\n",
    "| ANF | 2007-12-21T18-30-09\t| 2007-12-21T18-30-09 | 41.7669\t| -110.6122\t| 8.97 | ML | 2.17 |\n",
    "| ANF | 2007-12-21T18-30-09\t| 2007-12-21T18-30-09 | 41.7669\t| -110.6122\t| 8.97 | ML\t| 2.17 |\n",
    "\n",
    "The NAME field can be any string that can also be used as a file name by your OS. Windows does not allow \":\" in a file path so the \":\" between the hour and minute, and between the minute and seconds, have been replaced with a \"-\".\n",
    "\n",
    "The TIME field, just like the STARTTIME and ENDTIME fields in the station key can be any obspy readable objects. \n",
    "\n",
    "The MAG field is required for estimating magnitudes of newly detected events. \n",
    "\n",
    "The LAT, LON, and DEPTH fields are not strictly required for basic Detex functionality, but are used in some visualization methods. \n",
    "\n",
    "The CONTRIBUTOR and MTYPE fields are not used by detex but can be useful for record keeping. Additionally, just as with the station key, any extra fields can be added in order to better keep track of the events. \n",
    "\n",
    "# Generating Keys\n",
    "\n",
    "As long as the comma separated format shown above is followed you can use any method you like to create the keys. For small data sets it may be suitable to create the keys by hand in a text editor or in a program like excel. For larger data sets, however, it is useful to either use some of the built in functions to generate the keys or create your own script to do so. \n",
    "\n",
    "The following shows a few of the built in methods for generating the keys but it can often be an excellent exercise in python, especially for those new in the language, to generate these files yourself. If you do write such a script or function that uses some data source detex currently cannot use consider contributing it to the detex.util module as others will probably find it useful as well. \n",
    "\n",
    "## Generating Station Key\n",
    "\n"
   ]
  },
  {
   "cell_type": "code",
   "execution_count": null,
   "metadata": {
    "collapsed": true
   },
   "outputs": [],
   "source": []
  }
 ],
 "metadata": {
  "kernelspec": {
   "display_name": "Python 2",
   "language": "python",
   "name": "python2"
  },
  "language_info": {
   "codemirror_mode": {
    "name": "ipython",
    "version": 2
   },
   "file_extension": ".py",
   "mimetype": "text/x-python",
   "name": "python",
   "nbconvert_exporter": "python",
   "pygments_lexer": "ipython2",
   "version": "2.7.10"
  }
 },
 "nbformat": 4,
 "nbformat_minor": 0
}
