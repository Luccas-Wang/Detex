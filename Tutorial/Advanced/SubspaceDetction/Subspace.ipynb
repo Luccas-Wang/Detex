{
 "cells": [
  {
   "cell_type": "markdown",
   "metadata": {},
   "source": [
    "# Subspace Creation\n",
    "\n",
    "The next step in the detex workflow is to create a SubSpace object from a given cluster. Before we get too far into this let's look at a new data set. \n",
    "\n",
    "## The data set\n",
    "\n",
    "The data we will be working with are from a waste water injection site in Ohio. An excellent article on this site was recently published. Its reference is:\n",
    "\n",
    "\n",
    "Friberg, Paul A., Glenda M. Besana‐Ostman, and Ilya Dricker. \"Characterization of an earthquake sequence triggered by hydraulic fracturing in Harrison County, Ohio.\" Seismological Research Letters (2014).\n",
    "\n",
    "\n",
    "The station key, template key,  look like this:"
   ]
  },
  {
   "cell_type": "code",
   "execution_count": 1,
   "metadata": {
    "collapsed": false
   },
   "outputs": [
    {
     "data": {
      "text/html": [
       "<div>\n",
       "<table border=\"1\" class=\"dataframe\">\n",
       "  <thead>\n",
       "    <tr style=\"text-align: right;\">\n",
       "      <th></th>\n",
       "      <th>NETWORK</th>\n",
       "      <th>STATION</th>\n",
       "      <th>STARTTIME</th>\n",
       "      <th>ENDTIME</th>\n",
       "      <th>LAT</th>\n",
       "      <th>LON</th>\n",
       "      <th>ELEVATION</th>\n",
       "      <th>CHANNELS</th>\n",
       "    </tr>\n",
       "  </thead>\n",
       "  <tbody>\n",
       "    <tr>\n",
       "      <th>0</th>\n",
       "      <td>TA</td>\n",
       "      <td>O53A</td>\n",
       "      <td>2013-09-06T00-00-00</td>\n",
       "      <td>2013-09-16T00-00-00</td>\n",
       "      <td>40.2493</td>\n",
       "      <td>-81.2129</td>\n",
       "      <td>320</td>\n",
       "      <td>BHZ-BHN-BHE</td>\n",
       "    </tr>\n",
       "    <tr>\n",
       "      <th>1</th>\n",
       "      <td>TA</td>\n",
       "      <td>O52A</td>\n",
       "      <td>2013-09-06T00-00-00</td>\n",
       "      <td>2013-09-16T00-00-00</td>\n",
       "      <td>40.1158</td>\n",
       "      <td>-81.8361</td>\n",
       "      <td>331</td>\n",
       "      <td>BHZ-BHN-BHE</td>\n",
       "    </tr>\n",
       "  </tbody>\n",
       "</table>\n",
       "</div>"
      ],
      "text/plain": [
       "  NETWORK STATION            STARTTIME              ENDTIME      LAT      LON  \\\n",
       "0      TA    O53A  2013-09-06T00-00-00  2013-09-16T00-00-00  40.2493 -81.2129   \n",
       "1      TA    O52A  2013-09-06T00-00-00  2013-09-16T00-00-00  40.1158 -81.8361   \n",
       "\n",
       "   ELEVATION     CHANNELS  \n",
       "0        320  BHZ-BHN-BHE  \n",
       "1        331  BHZ-BHN-BHE  "
      ]
     },
     "execution_count": 1,
     "metadata": {},
     "output_type": "execute_result"
    }
   ],
   "source": [
    "import detex\n",
    "%matplotlib inline\n",
    "# display station key\n",
    "stakey = detex.util.readKey(\"StationKey.csv\", \"station\")\n",
    "stakey\n"
   ]
  },
  {
   "cell_type": "code",
   "execution_count": 2,
   "metadata": {
    "collapsed": false
   },
   "outputs": [
    {
     "data": {
      "text/html": [
       "<div>\n",
       "<table border=\"1\" class=\"dataframe\">\n",
       "  <thead>\n",
       "    <tr style=\"text-align: right;\">\n",
       "      <th></th>\n",
       "      <th>TIME</th>\n",
       "      <th>NAME</th>\n",
       "      <th>LAT</th>\n",
       "      <th>LON</th>\n",
       "      <th>MAG</th>\n",
       "      <th>DEPTH</th>\n",
       "      <th>STMP</th>\n",
       "    </tr>\n",
       "  </thead>\n",
       "  <tbody>\n",
       "    <tr>\n",
       "      <th>0</th>\n",
       "      <td>2013-10-02T00-01-28.31</td>\n",
       "      <td>2013-10-02T00-01-28.31</td>\n",
       "      <td>40.218167</td>\n",
       "      <td>-81.23250</td>\n",
       "      <td>1.6</td>\n",
       "      <td>1.01</td>\n",
       "      <td>2013-10-02T00:01:28.310000Z</td>\n",
       "    </tr>\n",
       "    <tr>\n",
       "      <th>1</th>\n",
       "      <td>2013-10-02T01-43-30.31</td>\n",
       "      <td>2013-10-02T01-43-30.31</td>\n",
       "      <td>40.241500</td>\n",
       "      <td>-81.22433</td>\n",
       "      <td>1.6</td>\n",
       "      <td>4.36</td>\n",
       "      <td>2013-10-02T01:43:30.310000Z</td>\n",
       "    </tr>\n",
       "    <tr>\n",
       "      <th>2</th>\n",
       "      <td>2013-10-02T01-52-48.36</td>\n",
       "      <td>2013-10-02T01-52-48.36</td>\n",
       "      <td>40.234333</td>\n",
       "      <td>-81.20250</td>\n",
       "      <td>1.6</td>\n",
       "      <td>3.64</td>\n",
       "      <td>2013-10-02T01:52:48.360000Z</td>\n",
       "    </tr>\n",
       "    <tr>\n",
       "      <th>3</th>\n",
       "      <td>2013-10-02T03-03-14.81</td>\n",
       "      <td>2013-10-02T03-03-14.81</td>\n",
       "      <td>40.246500</td>\n",
       "      <td>-81.23817</td>\n",
       "      <td>1.8</td>\n",
       "      <td>4.01</td>\n",
       "      <td>2013-10-02T03:03:14.810000Z</td>\n",
       "    </tr>\n",
       "    <tr>\n",
       "      <th>4</th>\n",
       "      <td>2013-10-02T03-19-11.57</td>\n",
       "      <td>2013-10-02T03-19-11.57</td>\n",
       "      <td>40.233660</td>\n",
       "      <td>-81.23250</td>\n",
       "      <td>2.0</td>\n",
       "      <td>2.22</td>\n",
       "      <td>2013-10-02T03:19:11.570000Z</td>\n",
       "    </tr>\n",
       "    <tr>\n",
       "      <th>5</th>\n",
       "      <td>2013-10-02T10:06:57.34</td>\n",
       "      <td>2013-10-02T10:06:57.34</td>\n",
       "      <td>40.244500</td>\n",
       "      <td>-81.23200</td>\n",
       "      <td>2.0</td>\n",
       "      <td>4.14</td>\n",
       "      <td>2013-10-02T10:06:57.340000Z</td>\n",
       "    </tr>\n",
       "    <tr>\n",
       "      <th>6</th>\n",
       "      <td>2013-10-03T14-40-40.91</td>\n",
       "      <td>2013-10-03T14-40-40.91</td>\n",
       "      <td>40.211170</td>\n",
       "      <td>-81.20617</td>\n",
       "      <td>1.7</td>\n",
       "      <td>2.10</td>\n",
       "      <td>2013-10-03T14:40:40.910000Z</td>\n",
       "    </tr>\n",
       "    <tr>\n",
       "      <th>7</th>\n",
       "      <td>2013-10-05T00-16-15.76</td>\n",
       "      <td>2013-10-05T00-16-15.76</td>\n",
       "      <td>40.241330</td>\n",
       "      <td>-81.25430</td>\n",
       "      <td>2.2</td>\n",
       "      <td>4.55</td>\n",
       "      <td>2013-10-05T00:16:15.760000Z</td>\n",
       "    </tr>\n",
       "    <tr>\n",
       "      <th>8</th>\n",
       "      <td>2013-10-08T06-25-47.96</td>\n",
       "      <td>2013-10-08T06-25-47.96</td>\n",
       "      <td>40.223660</td>\n",
       "      <td>-81.22167</td>\n",
       "      <td>1.7</td>\n",
       "      <td>2.44</td>\n",
       "      <td>2013-10-08T06:25:47.960000Z</td>\n",
       "    </tr>\n",
       "    <tr>\n",
       "      <th>9</th>\n",
       "      <td>2013-10-19T06-48-40.01</td>\n",
       "      <td>2013-10-19T06-48-40.01</td>\n",
       "      <td>40.226600</td>\n",
       "      <td>-81.23733</td>\n",
       "      <td>1.9</td>\n",
       "      <td>2.07</td>\n",
       "      <td>2013-10-19T06:48:40.010000Z</td>\n",
       "    </tr>\n",
       "  </tbody>\n",
       "</table>\n",
       "</div>"
      ],
      "text/plain": [
       "                     TIME                    NAME        LAT       LON  MAG  \\\n",
       "0  2013-10-02T00-01-28.31  2013-10-02T00-01-28.31  40.218167 -81.23250  1.6   \n",
       "1  2013-10-02T01-43-30.31  2013-10-02T01-43-30.31  40.241500 -81.22433  1.6   \n",
       "2  2013-10-02T01-52-48.36  2013-10-02T01-52-48.36  40.234333 -81.20250  1.6   \n",
       "3  2013-10-02T03-03-14.81  2013-10-02T03-03-14.81  40.246500 -81.23817  1.8   \n",
       "4  2013-10-02T03-19-11.57  2013-10-02T03-19-11.57  40.233660 -81.23250  2.0   \n",
       "5  2013-10-02T10:06:57.34  2013-10-02T10:06:57.34  40.244500 -81.23200  2.0   \n",
       "6  2013-10-03T14-40-40.91  2013-10-03T14-40-40.91  40.211170 -81.20617  1.7   \n",
       "7  2013-10-05T00-16-15.76  2013-10-05T00-16-15.76  40.241330 -81.25430  2.2   \n",
       "8  2013-10-08T06-25-47.96  2013-10-08T06-25-47.96  40.223660 -81.22167  1.7   \n",
       "9  2013-10-19T06-48-40.01  2013-10-19T06-48-40.01  40.226600 -81.23733  1.9   \n",
       "\n",
       "   DEPTH                         STMP  \n",
       "0   1.01  2013-10-02T00:01:28.310000Z  \n",
       "1   4.36  2013-10-02T01:43:30.310000Z  \n",
       "2   3.64  2013-10-02T01:52:48.360000Z  \n",
       "3   4.01  2013-10-02T03:03:14.810000Z  \n",
       "4   2.22  2013-10-02T03:19:11.570000Z  \n",
       "5   4.14  2013-10-02T10:06:57.340000Z  \n",
       "6   2.10  2013-10-03T14:40:40.910000Z  \n",
       "7   4.55  2013-10-05T00:16:15.760000Z  \n",
       "8   2.44  2013-10-08T06:25:47.960000Z  \n",
       "9   2.07  2013-10-19T06:48:40.010000Z  "
      ]
     },
     "execution_count": 2,
     "metadata": {},
     "output_type": "execute_result"
    }
   ],
   "source": [
    "temkey = detex.util.readKey(\"TemplateKey.csv\", \"template\")\n",
    "temkey"
   ]
  },
  {
   "cell_type": "markdown",
   "metadata": {},
   "source": [
    "Additionally, we know when a nearby well began injection and ceased injection"
   ]
  },
  {
   "cell_type": "code",
   "execution_count": 3,
   "metadata": {
    "collapsed": false
   },
   "outputs": [],
   "source": [
    "import obspy\n",
    "start_inject = obspy.UTCDateTime('2013-09-07T01:45:00').timestamp\n",
    "stop_inject = obspy.UTCDateTime('2013-10-06T13:18:00').timestamp\n"
   ]
  },
  {
   "cell_type": "markdown",
   "metadata": {},
   "source": [
    "## Setup\n",
    "Now we need to get the data and perform the waveform clustering. This will probably take about 20 minutes depending on your internet connection."
   ]
  },
  {
   "cell_type": "code",
   "execution_count": 4,
   "metadata": {
    "collapsed": false
   },
   "outputs": [
    {
     "name": "stdout",
     "output_type": "stream",
     "text": [
      "Getting template waveforms\n",
      "Getting continuous data\n",
      "finished makeDataDirectories call\n"
     ]
    }
   ],
   "source": [
    "detex.getdata.makeDataDirectories()"
   ]
  },
  {
   "cell_type": "code",
   "execution_count": 5,
   "metadata": {
    "collapsed": false
   },
   "outputs": [
    {
     "name": "stdout",
     "output_type": "stream",
     "text": [
      "Cannot remove response without a valid inventoryArg, setting removeResponse to False\n",
      "Starting IO operations and data checks\n",
      "performing cluster analysis on TA.O52A\n",
      "performing cluster analysis on TA.O53A\n",
      "ccReq for station TA.O52A updated to ccReq=0.500\n",
      "ccReq for station TA.O53A updated to ccReq=0.500\n",
      "writing ClusterStream instance as clust.pkl\n"
     ]
    },
    {
     "data": {
      "image/png": "[encoded data removed]",
      "text/plain": [
       "<matplotlib.figure.Figure at 0x7fe0911d4b10>"
      ]
     },
     "metadata": {},
     "output_type": "display_data"
    },
    {
     "data": {
      "image/png": "[encoded data removed]",
      "text/plain": [
       "<matplotlib.figure.Figure at 0x7fe09292ad50>"
      ]
     },
     "metadata": {},
     "output_type": "display_data"
    }
   ],
   "source": [
    "import detex\n",
    "%matplotlib inline\n",
    "cl = detex.createCluster()\n",
    "cl.dendro()"
   ]
  },
  {
   "cell_type": "markdown",
   "metadata": {
    "collapsed": true
   },
   "source": [
    "The 10 events we have selected are very similar, so I am going to leave them in one cluster. Let's see where they plot according to the ANF catalog. "
   ]
  },
  {
   "cell_type": "code",
   "execution_count": 6,
   "metadata": {
    "collapsed": false
   },
   "outputs": [
    {
     "data": {
      "image/png": "[encoded data removed]",
      "text/plain": [
       "<matplotlib.figure.Figure at 0x7fe090ce0d50>"
      ]
     },
     "metadata": {},
     "output_type": "display_data"
    },
    {
     "data": {
      "image/png": "[encoded data removed]",
      "text/plain": [
       "<matplotlib.figure.Figure at 0x7fe08220d810>"
      ]
     },
     "metadata": {},
     "output_type": "display_data"
    },
    {
     "data": {
      "image/png": "[encoded data removed]",
      "text/plain": [
       "<matplotlib.figure.Figure at 0x7fe0820853d0>"
      ]
     },
     "metadata": {},
     "output_type": "display_data"
    },
    {
     "data": {
      "image/png": "[encoded data removed]",
      "text/plain": [
       "<matplotlib.figure.Figure at 0x7fe0820d6350>"
      ]
     },
     "metadata": {},
     "output_type": "display_data"
    },
    {
     "data": {
      "image/png": "[encoded data removed]",
      "text/plain": [
       "<matplotlib.figure.Figure at 0x7fe0821a6050>"
      ]
     },
     "metadata": {},
     "output_type": "display_data"
    },
    {
     "data": {
      "image/png": "[encoded data removed]",
      "text/plain": [
       "<matplotlib.figure.Figure at 0x7fe081e7bad0>"
      ]
     },
     "metadata": {},
     "output_type": "display_data"
    }
   ],
   "source": [
    "cl.plotEvents()"
   ]
  },
  {
   "cell_type": "markdown",
   "metadata": {
    "collapsed": true
   },
   "source": [
    "## Create subspace\n",
    "Next we are ready to create the subspace object. The SubSpace class requires a ClusterStream instance for input. You can pass it directly to the SubSpace class via the \"cl\" keyword in the init method or detex will look for a pickeled instance with the default name of \"clust.pkl\" in the current working directly. Whenever you create a cluster object or update its correlation coeficient requirement it is pickeled (saved to disk) with the default name. In this case we will just use the default. "
   ]
  },
  {
   "cell_type": "code",
   "execution_count": 8,
   "metadata": {
    "collapsed": false
   },
   "outputs": [
    {
     "name": "stdout",
     "output_type": "stream",
     "text": [
      "Cannot remove response without a valid inventoryArg, setting removeResponse to False\n",
      "Starting Subspace Construction\n",
      "Finished CreateSubSpace call\n"
     ]
    }
   ],
   "source": [
    "ss = detex.createSubSpace() # we could also use ss = detex.construct.createSubSpace()"
   ]
  },
  {
   "cell_type": "markdown",
   "metadata": {},
   "source": [
    "## Attach picks\n",
    "Now we can attach the picks. These are contained in a csv that is name \"PhasePicks.csv\" by defualt. I created the csv by calling detex.util.pickPhases. The pickPhases function uses an altered version of streamPick (https://github.com/miili/StreamPick) which is a fantistic light-weight gui for making phase picks. \n"
   ]
  },
  {
   "cell_type": "code",
   "execution_count": 9,
   "metadata": {
    "collapsed": true
   },
   "outputs": [],
   "source": [
    "ss.attachPickTimes()"
   ]
  },
  {
   "cell_type": "markdown",
   "metadata": {},
   "source": [
    "## SVD and set thresholds\n",
    "Next we need to call the SVD method of the SubSpace class. It will perform the singular value decomposition in order to create an otho-normal representation of the aligned waveforms. This is done primarily as a method of dimensonality reduction. The main method for determining how many dimensions a subspace needs to represent the events that went into it well is through an average percent energy capture requirement. If you are not sure what I am talking about take a look at figure 8 of Dave Haris' [subspace paper](https://e-reports-ext.llnl.gov/pdf/335299.pdf). \n",
    "\n",
    "After these steps are complete the SVD function will try to determine a threshold of detection that is significant. This is done by running the subspace detector over continuous data  "
   ]
  }
 ],
 "metadata": {
  "kernelspec": {
   "display_name": "Python 2",
   "language": "python",
   "name": "python2"
  },
  "language_info": {
   "codemirror_mode": {
    "name": "ipython",
    "version": 2
   },
   "file_extension": ".py",
   "mimetype": "text/x-python",
   "name": "python",
   "nbconvert_exporter": "python",
   "pygments_lexer": "ipython2",
   "version": "2.7.11"
  }
 },
 "nbformat": 4,
 "nbformat_minor": 0
}
